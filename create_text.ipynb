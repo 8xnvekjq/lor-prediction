{
 "cells": [
  {
   "cell_type": "code",
   "execution_count": 1,
   "metadata": {
    "collapsed": true
   },
   "outputs": [],
   "source": [
    "# Imports\n",
    "from __future__ import absolute_import, division, print_function\n",
    "import string\n",
    "import os\n",
    "import pickle\n",
    "from six.moves import urllib\n",
    "\n",
    "import tflearn\n",
    "from tflearn.data_utils import *\n",
    "import unicodedata"
   ]
  },
  {
   "cell_type": "code",
   "execution_count": 2,
   "metadata": {
    "collapsed": false
   },
   "outputs": [
    {
     "name": "stdout",
     "output_type": "stream",
     "text": [
      "Loading previous char_idx\n"
     ]
    }
   ],
   "source": [
    "path = 'input.txt'\n",
    "if not os.path.isfile(path):\n",
    "  urllib.request.urlretrieve(\"https://gist.githubusercontent.com/Blabby/eb5064cdc9f6b55f10a06bb2aabd2b04/raw/780dc55ed24122c615557981441c8a811905d4de/LOR_input_c.txt\", path)\n",
    "\n",
    "char_idx_file = 'char_idx_LOR.pickle'\n",
    "char_idx = None\n",
    "\n",
    "if os.path.isfile(char_idx_file):\n",
    "  print('Loading previous char_idx')\n",
    "  char_idx = pickle.load(open(char_idx_file, 'rb'))"
   ]
  },
  {
   "cell_type": "code",
   "execution_count": 3,
   "metadata": {
    "collapsed": false
   },
   "outputs": [
    {
     "name": "stdout",
     "output_type": "stream",
     "text": [
      "Vectorizing text...\n",
      "Text total length: 2,528,442\n",
      "Distinct chars   : 43\n",
      "Total sequences  : 842,806\n"
     ]
    }
   ],
   "source": [
    "maxlen = 25\n",
    "X, Y, char_idx = textfile_to_semi_redundant_sequences(path, seq_maxlen=maxlen, redun_step=3)\n",
    "\n",
    "pickle.dump(char_idx, open(char_idx_file,'wb'))"
   ]
  },
  {
   "cell_type": "code",
   "execution_count": 4,
   "metadata": {
    "collapsed": true
   },
   "outputs": [],
   "source": [
    "# Create network layers\n",
    "g = tflearn.input_data([None, maxlen, len(char_idx)])\n",
    "g = tflearn.lstm(g, 512, return_seq=True)\n",
    "g = tflearn.dropout(g, 0.5)\n",
    "g = tflearn.lstm(g, 512, return_seq=True)\n",
    "g = tflearn.dropout(g, 0.5)\n",
    "g = tflearn.lstm(g, 512)\n",
    "g = tflearn.dropout(g, 0.5)\n",
    "g = tflearn.fully_connected(g, len(char_idx), activation='softmax')\n",
    "g = tflearn.regression(g, optimizer='adam', loss='categorical_crossentropy',\n",
    "                       learning_rate=0.001)"
   ]
  },
  {
   "cell_type": "code",
   "execution_count": 5,
   "metadata": {
    "collapsed": true
   },
   "outputs": [],
   "source": [
    "m = tflearn.SequenceGenerator(g, dictionary=char_idx,\n",
    "                              seq_maxlen=maxlen,\n",
    "                              clip_gradients=10.0,\n",
    "                              checkpoint_path='model_LOR',\n",
    "                              tensorboard_verbose=2)"
   ]
  },
  {
   "cell_type": "code",
   "execution_count": 6,
   "metadata": {
    "collapsed": false
   },
   "outputs": [],
   "source": [
    "# Load weights \n",
    "m.load('LOR_network.tflearn')"
   ]
  },
  {
   "cell_type": "code",
   "execution_count": 8,
   "metadata": {
    "collapsed": false
   },
   "outputs": [
    {
     "name": "stdout",
     "output_type": "stream",
     "text": [
      "-- TESTING...\n",
      "-- Test with temperature of 0.8 --\n",
      "illages was a small country on his black stricken travellers, until they heard us of your fear it would and was that the level mind or pride! plate it spurtie that was as they are come along the steep world for the door of ill-end, or it said you, precious, not at last to have to pass him knowed, but to stand the shire with night, and there is a strange ayful, the will away and strange to your full of gandalf. 'i lovemen where they saw the black wild house was dark above their own way to deal right, which it stood in th\n",
      "-- Test with temperature of 0.7 --\n",
      "illages was a small country in the bug of the shire.\n",
      "the others hurry at the masters of the rocks of the great feast of his feet fell him to the west he was became a line of heavy dark tower of the rider that went rowands of winding soft sword from the third sunless returned at the shire a visily on it for the sound of crawled to his feet were at answer to me in the are strigttered shapely, the trees, as he saw that his body and dark, as they thought of the trail of the north-dark shallow was doling. it will part of one\n",
      "-- Test with temperature of 0.5 --\n",
      "illages was a small country were heard the larger of the tower in the road. there was a company and she would have been a stone of the land of the shadows of such a dark land stood in the window of the little things that we can trust the willow. but not that i was heard, and while the sky and the sign and some stars and dark to have the forest of the moon saw that the ring and all the enemy still turned and the tall and the lady of the wars of the walls of the walls and gollum the lady of the fool, and the sun was a mil\n"
     ]
    }
   ],
   "source": [
    "# Generate Text !\n",
    "print(\"-- TESTING...\")\n",
    "seed = random_sequence_from_textfile(path, maxlen)\n",
    "\n",
    "print(\"-- Test with temperature of 0.8 --\")\n",
    "print(m.generate(500, temperature=0.8, seq_seed=seed))\n",
    "\n",
    "print(\"-- Test with temperature of 0.7 --\")\n",
    "print(m.generate(500, temperature=0.7, seq_seed=seed))\n",
    "\n",
    "print(\"-- Test with temperature of 0.5 --\")\n",
    "print(m.generate(500, temperature=0.5, seq_seed=seed))"
   ]
  },
  {
   "cell_type": "code",
   "execution_count": null,
   "metadata": {
    "collapsed": true
   },
   "outputs": [],
   "source": []
  }
 ],
 "metadata": {
  "kernelspec": {
   "display_name": "Python 2",
   "language": "python",
   "name": "python2"
  },
  "language_info": {
   "codemirror_mode": {
    "name": "ipython",
    "version": 2
   },
   "file_extension": ".py",
   "mimetype": "text/x-python",
   "name": "python",
   "nbconvert_exporter": "python",
   "pygments_lexer": "ipython2",
   "version": "2.7.9"
  }
 },
 "nbformat": 4,
 "nbformat_minor": 1
}
